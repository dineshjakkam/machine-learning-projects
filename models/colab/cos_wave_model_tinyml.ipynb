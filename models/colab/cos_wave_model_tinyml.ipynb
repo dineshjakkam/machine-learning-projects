{
  "nbformat": 4,
  "nbformat_minor": 0,
  "metadata": {
    "colab": {
      "name": "cos_wave_model_tinyml.ipynb",
      "provenance": [],
      "authorship_tag": "ABX9TyNoSvkOcp1QTAyy8GQVysgU",
      "include_colab_link": true
    },
    "kernelspec": {
      "name": "python3",
      "display_name": "Python 3"
    }
  },
  "cells": [
    {
      "cell_type": "markdown",
      "metadata": {
        "id": "view-in-github",
        "colab_type": "text"
      },
      "source": [
        "<a href=\"https://colab.research.google.com/github/dineshjakkam/machine-learning-projects/blob/master/models/colab/cos_wave_model_tinyml.ipynb\" target=\"_parent\"><img src=\"https://colab.research.google.com/assets/colab-badge.svg\" alt=\"Open In Colab\"/></a>"
      ]
    },
    {
      "cell_type": "markdown",
      "metadata": {
        "id": "cY5V4UWHGhKH",
        "colab_type": "text"
      },
      "source": [
        "# Understanding the basics of TinyML\n",
        "* The goal of this project is to train a simple model that can take a value x, \n",
        "and predicts its cos *(trignometric function)*, y.\n",
        "\n",
        "* In a real-world if you need a cos value, we can just directly call it as cos(x). But as part of this learning experience, we train a model using TensorFlow lite to predict its cosine given a value x."
      ]
    },
    {
      "cell_type": "markdown",
      "metadata": {
        "id": "ej0rszDRFhGF",
        "colab_type": "text"
      },
      "source": [
        "## Import libraries"
      ]
    },
    {
      "cell_type": "code",
      "metadata": {
        "id": "fCyj7FhPB6EA",
        "colab_type": "code",
        "colab": {}
      },
      "source": [
        "# Install TensoFlow Library\n",
        "!pip install tensorflow==2.0\n",
        "import tensorflow as tf\n",
        "import numpy as np\n",
        "import matplotlib.pyplot as plt\n",
        "\n",
        "import math"
      ],
      "execution_count": 0,
      "outputs": []
    },
    {
      "cell_type": "markdown",
      "metadata": {
        "id": "_LwglMPaGbrM",
        "colab_type": "text"
      },
      "source": [
        ""
      ]
    },
    {
      "cell_type": "markdown",
      "metadata": {
        "id": "QLs0Y3xeFUEO",
        "colab_type": "text"
      },
      "source": [
        "## Generating samples"
      ]
    },
    {
      "cell_type": "code",
      "metadata": {
        "id": "PiNtPrqZCoOa",
        "colab_type": "code",
        "colab": {
          "base_uri": "https://localhost:8080/",
          "height": 265
        },
        "outputId": "6974dbe6-6637-40f2-f452-a7831a497754"
      },
      "source": [
        "SAMPLES = 100\n",
        "# Seed value to get the same random numbers each time we run this\n",
        "# notebook. This can be of any value\n",
        "SEED = 1993\n",
        "np.random.seed(SEED)\n",
        "tf.random.set_seed(SEED)\n",
        "\n",
        "# np.random.unifrom generates the uniformly distributed random value \n",
        "# starting 0 to 2*pi, which cover complete sine wave oscillation\n",
        "x_values = np.random.uniform(low=0, high=2*math.pi, size=SAMPLES)\n",
        "\n",
        "# Shuffle the values to make sure they are not in order\n",
        "np.random.shuffle(x_values)\n",
        "\n",
        "# calculate corresponding cos values\n",
        "y_values = np.cos(x_values)\n",
        "\n",
        "# Plot the values using matplotlib\n",
        "# b dot indicates blue dots\n",
        "plt.plot(x_values, y_values, 'b.')\n",
        "plt.show()"
      ],
      "execution_count": 6,
      "outputs": [
        {
          "output_type": "display_data",
          "data": {
            "image/png": "[encoded data removed]",
            "text/plain": [
              "<Figure size 432x288 with 1 Axes>"
            ]
          },
          "metadata": {
            "tags": [],
            "needs_background": "light"
          }
        }
      ]
    },
    {
      "cell_type": "markdown",
      "metadata": {
        "id": "RzFLUvVtFo1C",
        "colab_type": "text"
      },
      "source": [
        "## Add noise to the samples"
      ]
    },
    {
      "cell_type": "code",
      "metadata": {
        "id": "Q_1wCOt2ETsK",
        "colab_type": "code",
        "colab": {
          "base_uri": "https://localhost:8080/",
          "height": 265
        },
        "outputId": "ca3faa69-2d56-4cab-f41a-dd86ed6b072c"
      },
      "source": [
        "# Add a small random number to each y_value\n",
        "y_values += 0.1 * np.random.randn(*y_values.shape)\n",
        "\n",
        "# Plot the values using matplotlib\n",
        "# b dot indicates blue dots\n",
        "plt.plot(x_values, y_values, 'b.')\n",
        "plt.show()"
      ],
      "execution_count": 11,
      "outputs": [
        {
          "output_type": "display_data",
          "data": {
            "image/png": "[encoded data removed]",
            "text/plain": [
              "<Figure size 432x288 with 1 Axes>"
            ]
          },
          "metadata": {
            "tags": [],
            "needs_background": "light"
          }
        }
      ]
    },
    {
      "cell_type": "markdown",
      "metadata": {
        "id": "06l1LOsvFvEy",
        "colab_type": "text"
      },
      "source": [
        "## Split the data"
      ]
    },
    {
      "cell_type": "code",
      "metadata": {
        "id": "iHMRIgSJFP4l",
        "colab_type": "code",
        "colab": {
          "base_uri": "https://localhost:8080/",
          "height": 265
        },
        "cellView": "both",
        "outputId": "80767325-faab-4f2c-b9cf-e981f1942f17"
      },
      "source": [
        "# We use 60% of data for training, 20% for validation and the\n",
        "# remianing 20% for testing. Split the indices as required\n",
        "TRAIN_SPLIT = int(0.6*SAMPLES)\n",
        "TEST_SPLIT = int(0.2*SAMPLES + TRAIN_SPLIT)\n",
        "\n",
        "# Given two indices np.split chop the data into three parts\n",
        "x_train, x_validate, x_test = np.split(x_values, [TRAIN_SPLIT, TEST_SPLIT])\n",
        "y_train, y_validate, y_test = np.split(y_values, [TRAIN_SPLIT, TEST_SPLIT])\n",
        "\n",
        "assert (x_train.size + x_validate.size + x_test.size) == SAMPLES\n",
        "\n",
        "# Plot the data is each partition in different colors\n",
        "plt.plot(x_train, y_train, 'b.', label=\"Train\")\n",
        "plt.plot(x_validate, y_validate, 'y.', label=\"Validate\")\n",
        "plt.plot(x_test, y_test, 'r.', label=\"Test\")\n",
        "plt.legend()\n",
        "plt.show()"
      ],
      "execution_count": 15,
      "outputs": [
        {
          "output_type": "display_data",
          "data": {
            "image/png": "[encoded data removed]",
            "text/plain": [
              "<Figure size 432x288 with 1 Axes>"
            ]
          },
          "metadata": {
            "tags": [],
            "needs_background": "light"
          }
        }
      ]
    }
  ]
}